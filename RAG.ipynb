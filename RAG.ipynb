{
 "cells": [
  {
   "cell_type": "markdown",
   "id": "1379f336",
   "metadata": {},
   "source": [
    "## Dataset Fetching"
   ]
  },
  {
   "cell_type": "code",
   "execution_count": 2,
   "id": "f51fa13b",
   "metadata": {},
   "outputs": [],
   "source": [
    "import pandas as pd"
   ]
  },
  {
   "cell_type": "code",
   "execution_count": 3,
   "id": "83f375cb",
   "metadata": {},
   "outputs": [],
   "source": [
    "df = pd.read_csv(\"Bhagwad_Gita.csv\")\n"
   ]
  },
  {
   "cell_type": "code",
   "execution_count": 4,
   "id": "8e98d94c",
   "metadata": {},
   "outputs": [
    {
     "name": "stdout",
     "output_type": "stream",
     "text": [
      "<class 'pandas.core.frame.DataFrame'>\n",
      "RangeIndex: 701 entries, 0 to 700\n",
      "Data columns (total 8 columns):\n",
      " #   Column           Non-Null Count  Dtype \n",
      "---  ------           --------------  ----- \n",
      " 0   ID               701 non-null    object\n",
      " 1   Chapter          701 non-null    int64 \n",
      " 2   Verse            701 non-null    int64 \n",
      " 3   Shloka           701 non-null    object\n",
      " 4   Transliteration  701 non-null    object\n",
      " 5   HinMeaning       701 non-null    object\n",
      " 6   EngMeaning       701 non-null    object\n",
      " 7   WordMeaning      701 non-null    object\n",
      "dtypes: int64(2), object(6)\n",
      "memory usage: 43.9+ KB\n"
     ]
    }
   ],
   "source": [
    "df.info()"
   ]
  },
  {
   "cell_type": "code",
   "execution_count": 5,
   "id": "672ecb07",
   "metadata": {},
   "outputs": [
    {
     "data": {
      "text/html": [
       "<div>\n",
       "<style scoped>\n",
       "    .dataframe tbody tr th:only-of-type {\n",
       "        vertical-align: middle;\n",
       "    }\n",
       "\n",
       "    .dataframe tbody tr th {\n",
       "        vertical-align: top;\n",
       "    }\n",
       "\n",
       "    .dataframe thead th {\n",
       "        text-align: right;\n",
       "    }\n",
       "</style>\n",
       "<table border=\"1\" class=\"dataframe\">\n",
       "  <thead>\n",
       "    <tr style=\"text-align: right;\">\n",
       "      <th></th>\n",
       "      <th>ID</th>\n",
       "      <th>Chapter</th>\n",
       "      <th>Verse</th>\n",
       "      <th>Shloka</th>\n",
       "      <th>Transliteration</th>\n",
       "      <th>HinMeaning</th>\n",
       "      <th>EngMeaning</th>\n",
       "      <th>WordMeaning</th>\n",
       "    </tr>\n",
       "  </thead>\n",
       "  <tbody>\n",
       "    <tr>\n",
       "      <th>0</th>\n",
       "      <td>BG1.1</td>\n",
       "      <td>1</td>\n",
       "      <td>1</td>\n",
       "      <td>धृतराष्ट्र उवाच |\\nधर्मक्षेत्रे कुरुक्षेत्रे स...</td>\n",
       "      <td>dhṛtarāṣṭra uvāca .\\ndharmakṣetre kurukṣetre s...</td>\n",
       "      <td>।।1.1।।धृतराष्ट्र ने कहा -- हे संजय ! धर्मभूमि...</td>\n",
       "      <td>1.1 Dhritarashtra said  What did my people and...</td>\n",
       "      <td>1.1 धर्मक्षेत्रे on the holy plain? कुरुक्षेत्...</td>\n",
       "    </tr>\n",
       "    <tr>\n",
       "      <th>1</th>\n",
       "      <td>BG1.2</td>\n",
       "      <td>1</td>\n",
       "      <td>2</td>\n",
       "      <td>सञ्जय उवाच |\\nदृष्ट्वा तु पाण्डवानीकं व्यूढं द...</td>\n",
       "      <td>sañjaya uvāca .\\ndṛṣṭvā tu pāṇḍavānīkaṃ vyūḍha...</td>\n",
       "      <td>।।1.2।।संजय ने कहा -- पाण्डव-सैन्य की व्यूह रच...</td>\n",
       "      <td>1.2. Sanjaya said  Having seen the army of the...</td>\n",
       "      <td>1.2 दृष्ट्वा having seen? तु indeed? पाण्डवानी...</td>\n",
       "    </tr>\n",
       "    <tr>\n",
       "      <th>2</th>\n",
       "      <td>BG1.3</td>\n",
       "      <td>1</td>\n",
       "      <td>3</td>\n",
       "      <td>पश्यैतां पाण्डुपुत्राणामाचार्य महतीं चमूम् |\\n...</td>\n",
       "      <td>paśyaitāṃ pāṇḍuputrāṇāmācārya mahatīṃ camūm .\\...</td>\n",
       "      <td>।।1.3।।हे आचार्य ! आपके बुद्धिमान शिष्य द्रुपद...</td>\n",
       "      <td>1.3. \"Behold, O Teacher! this mighty army of t...</td>\n",
       "      <td>1.3 पश्य behold? एताम् this? पाण्डुपुत्राणाम् ...</td>\n",
       "    </tr>\n",
       "    <tr>\n",
       "      <th>3</th>\n",
       "      <td>BG1.4</td>\n",
       "      <td>1</td>\n",
       "      <td>4</td>\n",
       "      <td>अत्र शूरा महेष्वासा भीमार्जुनसमा युधि |\\nयुयुध...</td>\n",
       "      <td>atra śūrā maheṣvāsā bhīmārjunasamā yudhi .\\nyu...</td>\n",
       "      <td>।।1.4।।इस सेना में महान् धनुर्धारी शूर योद्धा ...</td>\n",
       "      <td>1.4. Here are heroes, mighty archers, eal in b...</td>\n",
       "      <td>1.4 अत्र here? शूराः heroes? महेष्वासाः mighty...</td>\n",
       "    </tr>\n",
       "    <tr>\n",
       "      <th>4</th>\n",
       "      <td>BG1.5</td>\n",
       "      <td>1</td>\n",
       "      <td>5</td>\n",
       "      <td>धृष्टकेतुश्चेकितानः काशिराजश्च वीर्यवान् |\\nपु...</td>\n",
       "      <td>dhṛṣṭaketuścekitānaḥ kāśirājaśca vīryavān .\\np...</td>\n",
       "      <td>।।1.5।।धृष्टकेतु, चेकितान, बलवान काशिराज,  पुर...</td>\n",
       "      <td>1.5. \"Dhrishtaketu, chekitana and the valiant ...</td>\n",
       "      <td>1.5 धृष्टकेतुः Dhrishtaketu? चेकितानः Chekitan...</td>\n",
       "    </tr>\n",
       "  </tbody>\n",
       "</table>\n",
       "</div>"
      ],
      "text/plain": [
       "      ID  Chapter  Verse                                             Shloka  \\\n",
       "0  BG1.1        1      1  धृतराष्ट्र उवाच |\\nधर्मक्षेत्रे कुरुक्षेत्रे स...   \n",
       "1  BG1.2        1      2  सञ्जय उवाच |\\nदृष्ट्वा तु पाण्डवानीकं व्यूढं द...   \n",
       "2  BG1.3        1      3  पश्यैतां पाण्डुपुत्राणामाचार्य महतीं चमूम् |\\n...   \n",
       "3  BG1.4        1      4  अत्र शूरा महेष्वासा भीमार्जुनसमा युधि |\\nयुयुध...   \n",
       "4  BG1.5        1      5  धृष्टकेतुश्चेकितानः काशिराजश्च वीर्यवान् |\\nपु...   \n",
       "\n",
       "                                     Transliteration  \\\n",
       "0  dhṛtarāṣṭra uvāca .\\ndharmakṣetre kurukṣetre s...   \n",
       "1  sañjaya uvāca .\\ndṛṣṭvā tu pāṇḍavānīkaṃ vyūḍha...   \n",
       "2  paśyaitāṃ pāṇḍuputrāṇāmācārya mahatīṃ camūm .\\...   \n",
       "3  atra śūrā maheṣvāsā bhīmārjunasamā yudhi .\\nyu...   \n",
       "4  dhṛṣṭaketuścekitānaḥ kāśirājaśca vīryavān .\\np...   \n",
       "\n",
       "                                          HinMeaning  \\\n",
       "0  ।।1.1।।धृतराष्ट्र ने कहा -- हे संजय ! धर्मभूमि...   \n",
       "1  ।।1.2।।संजय ने कहा -- पाण्डव-सैन्य की व्यूह रच...   \n",
       "2  ।।1.3।।हे आचार्य ! आपके बुद्धिमान शिष्य द्रुपद...   \n",
       "3  ।।1.4।।इस सेना में महान् धनुर्धारी शूर योद्धा ...   \n",
       "4  ।।1.5।।धृष्टकेतु, चेकितान, बलवान काशिराज,  पुर...   \n",
       "\n",
       "                                          EngMeaning  \\\n",
       "0  1.1 Dhritarashtra said  What did my people and...   \n",
       "1  1.2. Sanjaya said  Having seen the army of the...   \n",
       "2  1.3. \"Behold, O Teacher! this mighty army of t...   \n",
       "3  1.4. Here are heroes, mighty archers, eal in b...   \n",
       "4  1.5. \"Dhrishtaketu, chekitana and the valiant ...   \n",
       "\n",
       "                                         WordMeaning  \n",
       "0  1.1 धर्मक्षेत्रे on the holy plain? कुरुक्षेत्...  \n",
       "1  1.2 दृष्ट्वा having seen? तु indeed? पाण्डवानी...  \n",
       "2  1.3 पश्य behold? एताम् this? पाण्डुपुत्राणाम् ...  \n",
       "3  1.4 अत्र here? शूराः heroes? महेष्वासाः mighty...  \n",
       "4  1.5 धृष्टकेतुः Dhrishtaketu? चेकितानः Chekitan...  "
      ]
     },
     "execution_count": 5,
     "metadata": {},
     "output_type": "execute_result"
    }
   ],
   "source": [
    "df.head()"
   ]
  },
  {
   "cell_type": "code",
   "execution_count": 6,
   "id": "f156531b",
   "metadata": {},
   "outputs": [
    {
     "data": {
      "text/plain": [
       "ID                 0\n",
       "Chapter            0\n",
       "Verse              0\n",
       "Shloka             0\n",
       "Transliteration    0\n",
       "HinMeaning         0\n",
       "EngMeaning         0\n",
       "WordMeaning        0\n",
       "dtype: int64"
      ]
     },
     "execution_count": 6,
     "metadata": {},
     "output_type": "execute_result"
    }
   ],
   "source": [
    "df.isnull().sum()"
   ]
  },
  {
   "cell_type": "code",
   "execution_count": 7,
   "id": "ad4a891f",
   "metadata": {},
   "outputs": [
    {
     "name": "stdout",
     "output_type": "stream",
     "text": [
      "Total verses: 701\n"
     ]
    },
    {
     "data": {
      "text/plain": [
       "Chapter\n",
       "1     47\n",
       "2     72\n",
       "3     43\n",
       "4     42\n",
       "5     29\n",
       "6     47\n",
       "7     30\n",
       "8     28\n",
       "9     34\n",
       "10    42\n",
       "11    55\n",
       "12    20\n",
       "13    35\n",
       "14    27\n",
       "15    20\n",
       "16    24\n",
       "17    28\n",
       "18    78\n",
       "Name: count, dtype: int64"
      ]
     },
     "execution_count": 7,
     "metadata": {},
     "output_type": "execute_result"
    }
   ],
   "source": [
    "# See how many verses we actually have\n",
    "print(\"Total verses:\", len(df))\n",
    "\n",
    "# Distribution of chapters\n",
    "df['Chapter'].value_counts().sort_index()"
   ]
  },
  {
   "cell_type": "markdown",
   "id": "fe450a83",
   "metadata": {},
   "source": [
    "## Embeddings Creation"
   ]
  },
  {
   "cell_type": "code",
   "execution_count": 8,
   "id": "292a7c91",
   "metadata": {},
   "outputs": [
    {
     "name": "stderr",
     "output_type": "stream",
     "text": [
      "/Users/devayushrout/Desktop/Ask-Krishna/.venv/lib/python3.11/site-packages/tqdm/auto.py:21: TqdmWarning: IProgress not found. Please update jupyter and ipywidgets. See https://ipywidgets.readthedocs.io/en/stable/user_install.html\n",
      "  from .autonotebook import tqdm as notebook_tqdm\n"
     ]
    }
   ],
   "source": [
    "from sentence_transformers import SentenceTransformer\n",
    "import numpy as np"
   ]
  },
  {
   "cell_type": "code",
   "execution_count": null,
   "id": "8212db9d",
   "metadata": {},
   "outputs": [],
   "source": [
    "model = SentenceTransformer('all-MiniLM-L6-v2')\n"
   ]
  },
  {
   "cell_type": "code",
   "execution_count": null,
   "id": "2bcb4e46",
   "metadata": {},
   "outputs": [],
   "source": [
    "df['embedding'] = df['EngMeaning'].apply(lambda x: model.encode(str(x), convert_to_numpy=True))\n",
    "\n",
    "print(\"Embeddings created for all verses.\")"
   ]
  },
  {
   "cell_type": "code",
   "execution_count": null,
   "id": "fc2d993c",
   "metadata": {},
   "outputs": [],
   "source": [
    "#storing embeddings for later use\n",
    "import pickle\n",
    "\n",
    "with open(\"gita_embeddings.pkl\", \"wb\") as f:\n",
    "    pickle.dump(df, f)\n",
    "\n",
    "print(\"Embeddings saved to gita_embeddings.pkl\")"
   ]
  }
 ],
 "metadata": {
  "kernelspec": {
   "display_name": ".venv",
   "language": "python",
   "name": "python3"
  },
  "language_info": {
   "codemirror_mode": {
    "name": "ipython",
    "version": 3
   },
   "file_extension": ".py",
   "mimetype": "text/x-python",
   "name": "python",
   "nbconvert_exporter": "python",
   "pygments_lexer": "ipython3",
   "version": "3.11.13"
  }
 },
 "nbformat": 4,
 "nbformat_minor": 5
}
